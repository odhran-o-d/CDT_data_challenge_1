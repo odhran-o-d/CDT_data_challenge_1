{
 "cells": [
  {
   "cell_type": "markdown",
   "metadata": {},
   "source": [
    "# Activity recognition on the Capture24 dataset\n",
    "\n",
    "## Data augmentation\n",
    "\n",
    "Data augmentation is a straighforward way to artificially increase the size\n",
    "of the dataset, which can be useful when the dataset is small or when\n",
    "using large models such as deep neural networks. It relies on generating\n",
    "variations of each instance in the dataset by applying several transformations on it.\n",
    "\n",
    "Not any transformation is applicable: For example, for image recognition it may not matter if the image is rotated, flipped or stretched; but for digits and letters recognition, flipping the image may not be helpful.\n",
    "The key is to find *invariances* in the data that are applicable for our learning task.\n",
    "\n",
    "###### Setup"
   ]
  },
  {
   "cell_type": "code",
   "execution_count": 1,
   "metadata": {},
   "outputs": [],
   "source": [
    "import numpy as np\n",
    "from sklearn.ensemble import RandomForestClassifier\n",
    "from tqdm.auto import tqdm\n",
    "import utils  # contains helper functions for this workshop -- check utils.py\n",
    "\n",
    "# For reproducibility\n",
    "np.random.seed(42)"
   ]
  },
  {
   "cell_type": "markdown",
   "metadata": {},
   "source": [
    " ###### Load dataset and hold out some instances for testing\n",
    "\n",
    "To highlight the utility of data augmentation in small datasets, let us constrain ourselves to only *five* participants:"
   ]
  },
  {
   "cell_type": "code",
   "execution_count": 2,
   "metadata": {},
   "outputs": [
    {
     "name": "stdout",
     "output_type": "stream",
     "text": [
      "Contents of capture24.npz: ['X_feats', 'y', 'pid', 'time', 'annotation']\n",
      "Shape of X_train: (6025, 125)\n",
      "Shape of X_test: (4991, 125)\n"
     ]
    }
   ],
   "source": [
    "data = np.load('capture24.npz', allow_pickle=True)\n",
    "mask = np.isin(data['pid'], [1, 2, 3, 4, 5])  # take only five participants\n",
    "X_feats, y, pid, time = \\\n",
    "    data['X_feats'][mask], data['y'][mask], data['pid'][mask], data['time'][mask]\n",
    "print(\"Contents of capture24.npz:\", data.files)\n",
    "\n",
    "# Hold out some participants for testing the model\n",
    "pids_test = [2, 3]  # participants 2 & 3\n",
    "mask_test = np.isin(pid, pids_test)\n",
    "mask_train = ~mask_test\n",
    "X_train, y_train, pid_train, time_train = \\\n",
    "    X_feats[mask_train], y[mask_train], pid[mask_train], time[mask_train]\n",
    "X_test, y_test, pid_test, time_test = \\\n",
    "    X_feats[mask_test], y[mask_test], pid[mask_test], time[mask_test]\n",
    "print(\"Shape of X_train:\", X_train.shape)\n",
    "print(\"Shape of X_test:\", X_test.shape)"
   ]
  },
  {
   "cell_type": "markdown",
   "metadata": {},
   "source": [
    " ###### Baseline\n",
    "\n",
    "Train the random forest and evaluate on the held out participants\n",
    "\n",
    "*Note: this takes a few minutes*"
   ]
  },
  {
   "cell_type": "code",
   "execution_count": 3,
   "metadata": {},
   "outputs": [
    {
     "name": "stderr",
     "output_type": "stream",
     "text": [
      "[Parallel(n_jobs=4)]: Using backend ThreadingBackend with 4 concurrent workers.\n",
      "[Parallel(n_jobs=4)]: Done  42 tasks      | elapsed:    0.6s\n",
      "[Parallel(n_jobs=4)]: Done 100 out of 100 | elapsed:    1.4s finished\n",
      "[Parallel(n_jobs=4)]: Using backend ThreadingBackend with 4 concurrent workers.\n",
      "[Parallel(n_jobs=4)]: Done  42 tasks      | elapsed:    0.0s\n",
      "[Parallel(n_jobs=4)]: Done 100 out of 100 | elapsed:    0.0s finished\n"
     ]
    },
    {
     "name": "stdout",
     "output_type": "stream",
     "text": [
      "\n",
      "--- Baseline performance ---\n",
      "Accuracy score: 0.9022240032057703\n",
      "Balanced accuracy score: 0.6371540652875727\n",
      "Cohen kappa score: 0.8432713529210466\n",
      "\n",
      "Per-class recall scores:\n",
      "sleep      : 0.9937759336099585\n",
      "sedentary  : 0.959927960378208\n",
      "tasks-light: 0.0\n",
      "walking    : 0.45483870967741935\n",
      "moderate   : 0.7772277227722773\n",
      "\n",
      "Confusion matrix:\n",
      " [[1916    8    0    4    0]\n",
      " [  65 2132    0   20    4]\n",
      " [  17   98    0   13    0]\n",
      " [   0  105    0  141   64]\n",
      " [   0   40    0   50  314]]\n"
     ]
    }
   ],
   "source": [
    "# Training\n",
    "classifier = RandomForestClassifier(n_estimators=100, oob_score=True, n_jobs=4, verbose=True)\n",
    "classifier.fit(X_train, y_train)\n",
    "Y_oob = classifier.oob_decision_function_\n",
    "prior, emission, transition = utils.train_hmm(Y_oob, y_train)\n",
    "\n",
    "# Testing\n",
    "y_test_pred = utils.viterbi(classifier.predict(X_test), prior, transition, emission)\n",
    "print(\"\\n--- Baseline performance ---\")\n",
    "utils.print_scores(utils.compute_scores(y_test, y_test_pred))"
   ]
  },
  {
   "cell_type": "markdown",
   "metadata": {},
   "source": [
    "## Robustness to unforseen circumstances\n",
    "\n",
    "What would our performance be if our two left-out participants happened to wear the device with a different orientation?\n",
    "For example: Suppose that all our training participants wore the device on their right hand, then how would our model perform on participants that wore the device on their left hand?\n",
    "This scenario corresponds to a 180 degrees rotation around the z-axis:\n",
    "<img src=\"wrist_accelerometer.jpg\" width=\"400\"/>\n",
    "Let's generate a pseudo-test set simulating this scenario. In the following,\n",
    "we first load the raw triaxial accelerometer data so that we can perform the\n",
    "rotation on it, then we use our utility function to extract hand-crafted features (see\n",
    "`utils.Extractor`) on the rotated raw data."
   ]
  },
  {
   "cell_type": "code",
   "execution_count": 4,
   "metadata": {},
   "outputs": [
    {
     "name": "stdout",
     "output_type": "stream",
     "text": [
      "Extracting features on pseudo-test set...\n"
     ]
    },
    {
     "data": {
      "application/vnd.jupyter.widget-view+json": {
       "model_id": "ccff7751bf55478c870ba7ac8704a262",
       "version_major": 2,
       "version_minor": 0
      },
      "text/plain": [
       "HBox(children=(IntProgress(value=0, max=4991), HTML(value='')))"
      ]
     },
     "metadata": {},
     "output_type": "display_data"
    },
    {
     "name": "stdout",
     "output_type": "stream",
     "text": [
      "\n"
     ]
    }
   ],
   "source": [
    "# Load the raw triaxial data to perform the rotation on it\n",
    "X_raw = np.load('X_raw.npy', mmap_mode='r')\n",
    "# Grab the five participants and hold out those for testing\n",
    "# X_raw[mask_train] and X_raw[mask_test] if you like to live dangerously\n",
    "X_raw = utils.ArrayFromMask(X_raw, mask)\n",
    "X_raw_train = utils.ArrayFromMask(X_raw, mask_train)\n",
    "X_raw_test = utils.ArrayFromMask(X_raw, mask_test)\n",
    "\n",
    "# Initialize feature extractor -- this needs to be done only once\n",
    "extractor = utils.Extractor()\n",
    "\n",
    "print(\"Extracting features on pseudo-test set...\")\n",
    "X_test_rot = np.empty_like(X_test)\n",
    "y_test_rot = y_test.copy()\n",
    "for i in tqdm(range(X_raw_test.shape[0])):\n",
    "    # Rotate instance around z-axis and extract features\n",
    "    x = X_raw_test[i].copy()\n",
    "    x[0,:] *= -1\n",
    "    x[1,:] *= -1\n",
    "    X_test_rot[i] = extractor.extract(x)"
   ]
  },
  {
   "cell_type": "markdown",
   "metadata": {},
   "source": [
    " ###### How does the baseline model perform on the pseudo-set? "
   ]
  },
  {
   "cell_type": "code",
   "execution_count": 5,
   "metadata": {},
   "outputs": [
    {
     "name": "stderr",
     "output_type": "stream",
     "text": [
      "[Parallel(n_jobs=4)]: Using backend ThreadingBackend with 4 concurrent workers.\n",
      "[Parallel(n_jobs=4)]: Done  42 tasks      | elapsed:    0.0s\n",
      "[Parallel(n_jobs=4)]: Done 100 out of 100 | elapsed:    0.1s finished\n"
     ]
    },
    {
     "name": "stdout",
     "output_type": "stream",
     "text": [
      "\n",
      "--- Performance of baseline model on pseudo-test set ---\n",
      "Accuracy score: 0.48787818072530553\n",
      "Balanced accuracy score: 0.49410586761645625\n",
      "Cohen kappa score: 0.22269253492126628\n",
      "\n",
      "Per-class recall scores:\n",
      "sleep      : 0.975103734439834\n",
      "sedentary  : 0.01936064835659613\n",
      "tasks-light: 0.078125\n",
      "walking    : 0.667741935483871\n",
      "moderate   : 0.7301980198019802\n",
      "\n",
      "Confusion matrix:\n",
      " [[1880   39    0    9    0]\n",
      " [2131   43    2   45    0]\n",
      " [  27   63   10   28    0]\n",
      " [  38    2   14  207   49]\n",
      " [  13   14    1   81  295]]\n"
     ]
    }
   ],
   "source": [
    "y_test_rot_pred = utils.viterbi(\n",
    "    classifier.predict(X_test_rot), prior, transition, emission)\n",
    "print(\"\\n--- Performance of baseline model on pseudo-test set ---\")\n",
    "utils.print_scores(utils.compute_scores(y_test_rot, y_test_rot_pred))"
   ]
  },
  {
   "cell_type": "markdown",
   "metadata": {},
   "source": [
    "The model score has dropped drastically.\n",
    "Let's visualize the predicted activities for participant #3 and the pseudo-participant #3 (with rotated device):"
   ]
  },
  {
   "cell_type": "code",
   "execution_count": 6,
   "metadata": {},
   "outputs": [
    {
     "name": "stderr",
     "output_type": "stream",
     "text": [
      "/cdthome/zhi722/.conda/envs/capture24/lib/python3.7/site-packages/ipykernel_launcher.py:5: UserWarning: Matplotlib is currently using module://ipykernel.pylab.backend_inline, which is a non-GUI backend, so cannot show the figure.\n",
      "  \"\"\"\n",
      "/cdthome/zhi722/.conda/envs/capture24/lib/python3.7/site-packages/ipykernel_launcher.py:11: UserWarning: Matplotlib is currently using module://ipykernel.pylab.backend_inline, which is a non-GUI backend, so cannot show the figure.\n",
      "  # This is added back by InteractiveShellApp.init_path()\n"
     ]
    },
    {
     "data": {
      "image/png": "[encoded data removed]",
      "text/plain": [
       "<Figure size 432x288 with 3 Axes>"
      ]
     },
     "metadata": {
      "needs_background": "light"
     },
     "output_type": "display_data"
    },
    {
     "data": {
      "image/png": "[encoded data removed]",
      "text/plain": [
       "<Figure size 432x288 with 3 Axes>"
      ]
     },
     "metadata": {
      "needs_background": "light"
     },
     "output_type": "display_data"
    }
   ],
   "source": [
    "fig, _ = utils.plot_activity(\n",
    "    X_test[pid_test==3][:,0], y_test_pred[pid_test==3], time_test[pid_test==3]\n",
    ")\n",
    "fig.suptitle('participant #3', fontsize='small')\n",
    "fig.show()\n",
    "\n",
    "fig, _ = utils.plot_activity(\n",
    "    X_test_rot[pid_test==3][:,0], y_test_rot_pred[pid_test==3], time_test[pid_test==3]\n",
    ")\n",
    "fig.suptitle('pseudo-participant #3', fontsize='small')\n",
    "fig.show()"
   ]
  },
  {
   "cell_type": "markdown",
   "metadata": {},
   "source": [
    "As we see, the activity plot has changed significantly &mdash; the model is not\n",
    "robust to participants wearing the device differently.\n",
    "Ideally, we would like our model to perform well regardless of\n",
    "how the device was worn.\n",
    "\n",
    "###### Data augmentation\n",
    "\n",
    "We can incorporate the desired invariance by simply augmenting our training set and re-training the model:"
   ]
  },
  {
   "cell_type": "code",
   "execution_count": 7,
   "metadata": {},
   "outputs": [
    {
     "name": "stdout",
     "output_type": "stream",
     "text": [
      "\n",
      "Extracting features on pseudo-training set...\n"
     ]
    },
    {
     "data": {
      "application/vnd.jupyter.widget-view+json": {
       "model_id": "4f453aae7f2f49e0b22f211788b6f9cc",
       "version_major": 2,
       "version_minor": 0
      },
      "text/plain": [
       "HBox(children=(IntProgress(value=0, max=6025), HTML(value='')))"
      ]
     },
     "metadata": {},
     "output_type": "display_data"
    },
    {
     "name": "stdout",
     "output_type": "stream",
     "text": [
      "\n",
      "Shape of new augmented X_train: (12050, 125)\n"
     ]
    }
   ],
   "source": [
    "print(\"\\nExtracting features on pseudo-training set...\")\n",
    "X_train_rot = np.empty_like(X_train)\n",
    "y_train_rot = y_train.copy()\n",
    "for i in tqdm(range(X_raw_train.shape[0])):\n",
    "    # Rotate instance around z-axis and extract features\n",
    "    x = X_raw_train[i].copy()\n",
    "    x[0,:] *= -1\n",
    "    x[1,:] *= -1\n",
    "    X_train_rot[i] = extractor.extract(x)\n",
    "\n",
    "# Add in the \"new data\" to training set\n",
    "X_train = np.concatenate((X_train, X_train_rot))\n",
    "y_train = np.concatenate((y_train, y_train_rot))\n",
    "print(\"Shape of new augmented X_train:\", X_train.shape)"
   ]
  },
  {
   "cell_type": "markdown",
   "metadata": {},
   "source": [
    " ###### Re-train the model on the augmented training set\n",
    "\n",
    "*Note: this takes a few minutes*"
   ]
  },
  {
   "cell_type": "code",
   "execution_count": 8,
   "metadata": {},
   "outputs": [
    {
     "name": "stderr",
     "output_type": "stream",
     "text": [
      "[Parallel(n_jobs=4)]: Using backend ThreadingBackend with 4 concurrent workers.\n",
      "[Parallel(n_jobs=4)]: Done  42 tasks      | elapsed:    1.4s\n",
      "[Parallel(n_jobs=4)]: Done 100 out of 100 | elapsed:    3.1s finished\n"
     ]
    }
   ],
   "source": [
    "classifier = RandomForestClassifier(n_estimators=100, oob_score=True, n_jobs=4, verbose=True)\n",
    "classifier.fit(X_train, y_train)\n",
    "Y_oob = classifier.oob_decision_function_\n",
    "prior, emission, transition = utils.train_hmm(Y_oob, y_train)"
   ]
  },
  {
   "cell_type": "markdown",
   "metadata": {},
   "source": [
    " ###### Re-evaluate the model "
   ]
  },
  {
   "cell_type": "code",
   "execution_count": 9,
   "metadata": {},
   "outputs": [
    {
     "name": "stdout",
     "output_type": "stream",
     "text": [
      "\n",
      "--- Performance of re-trained model on the original test set ---\n"
     ]
    },
    {
     "name": "stderr",
     "output_type": "stream",
     "text": [
      "[Parallel(n_jobs=4)]: Using backend ThreadingBackend with 4 concurrent workers.\n",
      "[Parallel(n_jobs=4)]: Done  42 tasks      | elapsed:    0.0s\n",
      "[Parallel(n_jobs=4)]: Done 100 out of 100 | elapsed:    0.1s finished\n"
     ]
    },
    {
     "name": "stdout",
     "output_type": "stream",
     "text": [
      "Accuracy score: 0.9036265277499499\n",
      "Balanced accuracy score: 0.6589090426817158\n",
      "Cohen kappa score: 0.8460255255523942\n",
      "\n",
      "Per-class recall scores:\n",
      "sleep      : 0.9761410788381742\n",
      "sedentary  : 0.9617289509230077\n",
      "tasks-light: 0.0\n",
      "walking    : 0.5967741935483871\n",
      "moderate   : 0.7599009900990099\n",
      "\n",
      "Confusion matrix:\n",
      " [[1882   41    0    5    0]\n",
      " [  57 2136    0   28    0]\n",
      " [   0  108    0   20    0]\n",
      " [   0   86    0  185   39]\n",
      " [   0   37    0   60  307]]\n",
      "\n",
      "--- Performance of re-trained model on the pseudo-test set ---\n"
     ]
    },
    {
     "name": "stderr",
     "output_type": "stream",
     "text": [
      "[Parallel(n_jobs=4)]: Using backend ThreadingBackend with 4 concurrent workers.\n",
      "[Parallel(n_jobs=4)]: Done  42 tasks      | elapsed:    0.0s\n",
      "[Parallel(n_jobs=4)]: Done 100 out of 100 | elapsed:    0.1s finished\n"
     ]
    },
    {
     "name": "stdout",
     "output_type": "stream",
     "text": [
      "Accuracy score: 0.9016229212582649\n",
      "Balanced accuracy score: 0.6578580148863831\n",
      "Cohen kappa score: 0.8428967207497371\n",
      "\n",
      "Per-class recall scores:\n",
      "sleep      : 0.9766597510373444\n",
      "sedentary  : 0.9581269698334084\n",
      "tasks-light: 0.0\n",
      "walking    : 0.6193548387096774\n",
      "moderate   : 0.7351485148514851\n",
      "\n",
      "Confusion matrix:\n",
      " [[1883   38    0    7    0]\n",
      " [  62 2128    0   31    0]\n",
      " [   0  108    0   20    0]\n",
      " [   0   86    0  192   32]\n",
      " [   0   40    0   67  297]]\n"
     ]
    },
    {
     "name": "stderr",
     "output_type": "stream",
     "text": [
      "/cdthome/zhi722/.conda/envs/capture24/lib/python3.7/site-packages/ipykernel_launcher.py:13: UserWarning: Matplotlib is currently using module://ipykernel.pylab.backend_inline, which is a non-GUI backend, so cannot show the figure.\n",
      "  del sys.path[0]\n",
      "/cdthome/zhi722/.conda/envs/capture24/lib/python3.7/site-packages/ipykernel_launcher.py:19: UserWarning: Matplotlib is currently using module://ipykernel.pylab.backend_inline, which is a non-GUI backend, so cannot show the figure.\n"
     ]
    },
    {
     "data": {
      "image/png": "[encoded data removed]",
      "text/plain": [
       "<Figure size 432x288 with 3 Axes>"
      ]
     },
     "metadata": {
      "needs_background": "light"
     },
     "output_type": "display_data"
    },
    {
     "data": {
      "image/png": "[encoded data removed]",
      "text/plain": [
       "<Figure size 432x288 with 3 Axes>"
      ]
     },
     "metadata": {
      "needs_background": "light"
     },
     "output_type": "display_data"
    }
   ],
   "source": [
    "print(\"\\n--- Performance of re-trained model on the original test set ---\")\n",
    "y_test_pred = utils.viterbi(classifier.predict(X_test), prior, transition, emission)\n",
    "utils.print_scores(utils.compute_scores(y_test, y_test_pred))\n",
    "\n",
    "print(\"\\n--- Performance of re-trained model on the pseudo-test set ---\")\n",
    "y_test_rot_pred = utils.viterbi(classifier.predict(X_test_rot), prior, transition, emission)\n",
    "utils.print_scores(utils.compute_scores(y_test_rot, y_test_rot_pred))\n",
    "\n",
    "fig, _ = utils.plot_activity(\n",
    "    X_test[pid_test==3][:,0], y_test_pred[pid_test==3], time_test[pid_test==3]\n",
    ")\n",
    "fig.suptitle('participant #3', fontsize='small')\n",
    "fig.show()\n",
    "\n",
    "fig, _ = utils.plot_activity(\n",
    "    X_test_rot[pid_test==3][:,0], y_test_rot_pred[pid_test==3], time_test[pid_test==3]\n",
    ")\n",
    "fig.suptitle('pseudo-participant #3', fontsize='small')\n",
    "fig.show()"
   ]
  },
  {
   "cell_type": "markdown",
   "metadata": {},
   "source": [
    "As we see, by data-augmenting the training set with the desired invariance\n",
    "the model prediction is more robust to wear variations.\n",
    "\n",
    "###### Ideas\n",
    "\n",
    "- What other invariances should we want our model to learn?\n",
    "- Re-run the notebook on the whole dataset. Can you explain the reduced discrepancy?"
   ]
  }
 ],
 "metadata": {
  "anaconda-cloud": {},
  "kernelspec": {
   "display_name": "Python 3",
   "language": "python",
   "name": "python3"
  },
  "language_info": {
   "codemirror_mode": {
    "name": "ipython",
    "version": 3
   },
   "file_extension": ".py",
   "mimetype": "text/x-python",
   "name": "python",
   "nbconvert_exporter": "python",
   "pygments_lexer": "ipython3",
   "version": "3.7.5"
  }
 },
 "nbformat": 4,
 "nbformat_minor": 1
}
